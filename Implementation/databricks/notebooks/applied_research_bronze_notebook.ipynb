{
  "nbformat": 4,
  "nbformat_minor": 0,
  "metadata": {
    "colab": {
      "provenance": []
    },
    "kernelspec": {
      "name": "python3",
      "display_name": "Python 3"
    },
    "language_info": {
      "name": "python"
    }
  },
  "cells": [
    {
      "cell_type": "markdown",
      "source": [
        "# Data Ingestion — Bronze Layer\n",
        "\n",
        "Ingest raw CSV files stored in a structured folder hierarchy (`year/month/data.csv`) into a Delta table named **`bronze_data`**, adding ingestion metadata for traceability and enabling incremental data processing.\n"
      ],
      "metadata": {
        "id": "9OPrsjfRfsMn"
      }
    },
    {
      "cell_type": "code",
      "execution_count": null,
      "metadata": {
        "id": "beKXokjTfKbd"
      },
      "outputs": [],
      "source": [
        "from pyspark.sql import functions as f\n",
        "from pyspark.sql import SparkSession\n",
        "\n",
        "spark = SparkSession.builder.getOrCreate()"
      ]
    },
    {
      "cell_type": "code",
      "source": [
        "data_path = \"dbfs:/mnt/applied_research/landing/*/*/data.csv\""
      ],
      "metadata": {
        "id": "lEoTZowcfRQy"
      },
      "execution_count": null,
      "outputs": []
    },
    {
      "cell_type": "code",
      "source": [
        "df = (\n",
        "    spark.read\n",
        "    .option(\"header\", \"true\")\n",
        "    .option(\"inferSchema\", \"true\")\n",
        "    .csv(data_path)\n",
        ")\n",
        "\n",
        "df_with_ts = df.withColumn(\"ingestion_timestamp\", f.current_timestamp())\n",
        "table_name = \"bronze_data\""
      ],
      "metadata": {
        "id": "uZ8uhtxxfToI"
      },
      "execution_count": null,
      "outputs": []
    },
    {
      "cell_type": "code",
      "source": [
        "(\n",
        "    df_with_ts.write\n",
        "    .format(\"delta\")\n",
        "    .mode(\"append\")\n",
        "    .saveAsTable(table_name)\n",
        ")"
      ],
      "metadata": {
        "id": "eSdsR-jifdhE"
      },
      "execution_count": null,
      "outputs": []
    }
  ]
}