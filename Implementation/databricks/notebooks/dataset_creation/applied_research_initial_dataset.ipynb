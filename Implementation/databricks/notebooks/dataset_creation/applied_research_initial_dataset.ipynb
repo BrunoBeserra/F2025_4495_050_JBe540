{
  "nbformat": 4,
  "nbformat_minor": 0,
  "metadata": {
    "colab": {
      "provenance": []
    },
    "kernelspec": {
      "name": "python3",
      "display_name": "Python 3"
    },
    "language_info": {
      "name": "python"
    }
  },
  "cells": [
    {
      "cell_type": "markdown",
      "source": [
        "### Notebook to create Initial dataset sample for the project with employees data"
      ],
      "metadata": {
        "id": "77ZL5oDiYIle"
      }
    },
    {
      "cell_type": "code",
      "execution_count": null,
      "metadata": {
        "id": "nGAKzdAfX-fP"
      },
      "outputs": [],
      "source": [
        "from pyspark.sql import SparkSession\n",
        "from pyspark.sql.functions import col, sum as spark_sum, when"
      ]
    },
    {
      "cell_type": "code",
      "source": [
        "spark = SparkSession.builder \\\n",
        "    .appName(\"HR Dataset Analysis\") \\\n",
        "    .getOrCreate()"
      ],
      "metadata": {
        "id": "FZPgOD2WYZ8Z"
      },
      "execution_count": null,
      "outputs": []
    },
    {
      "cell_type": "code",
      "source": [
        "df = spark.read.format(\"csv\").option(\"header\",True).load(\"/content/drive/MyDrive/Estudos/Douglas College - Pós/Applied Research/HR_Data_MNC_Data Science Lovers.csv\")"
      ],
      "metadata": {
        "id": "i1RrPOTJYaWn"
      },
      "execution_count": null,
      "outputs": []
    },
    {
      "cell_type": "code",
      "source": [
        "df.printSchema()"
      ],
      "metadata": {
        "colab": {
          "base_uri": "https://localhost:8080/"
        },
        "id": "3jSThO26YaGo",
        "outputId": "68edbfdc-32fd-4ab8-ee95-5667defb39cb"
      },
      "execution_count": null,
      "outputs": [
        {
          "output_type": "stream",
          "name": "stdout",
          "text": [
            "root\n",
            " |-- Unnamed: 0: string (nullable = true)\n",
            " |-- Employee_ID: string (nullable = true)\n",
            " |-- Full_Name: string (nullable = true)\n",
            " |-- Department: string (nullable = true)\n",
            " |-- Job_Title: string (nullable = true)\n",
            " |-- Hire_Date: timestamp (nullable = true)\n",
            " |-- Location: string (nullable = true)\n",
            " |-- Performance_Rating: double (nullable = true)\n",
            " |-- Experience_Years: double (nullable = true)\n",
            " |-- Status: string (nullable = true)\n",
            " |-- Work_Mode: string (nullable = true)\n",
            " |-- Salary_INR: double (nullable = true)\n",
            "\n"
          ]
        }
      ]
    },
    {
      "cell_type": "code",
      "source": [
        "df = df.withColumn(\"Experience_Years\", col(\"Experience_Years\").cast(\"double\")) \\\n",
        "        .withColumn(\"Salary_INR\", col(\"Salary_INR\").cast(\"double\")) \\\n",
        "        .withColumn(\"Performance_Rating\", col(\"Performance_Rating\").cast(\"double\")) \\\n",
        "        .withColumn(\"Hire_Date\", col(\"Hire_Date\").cast(\"timestamp\"))\n"
      ],
      "metadata": {
        "id": "PIZSHt05rL0P"
      },
      "execution_count": null,
      "outputs": []
    },
    {
      "cell_type": "code",
      "source": [
        "df.show(5)"
      ],
      "metadata": {
        "colab": {
          "base_uri": "https://localhost:8080/"
        },
        "id": "anVrl18aYaN6",
        "outputId": "e5ebe8ff-dad3-4079-a94d-fd5eb69ca713"
      },
      "execution_count": null,
      "outputs": [
        {
          "output_type": "stream",
          "name": "stdout",
          "text": [
            "+----------+-----------+---------------+----------+--------------------+-------------------+--------------------+------------------+----------------+--------+---------+----------+\n",
            "|Unnamed: 0|Employee_ID|      Full_Name|Department|           Job_Title|          Hire_Date|            Location|Performance_Rating|Experience_Years|  Status|Work_Mode|Salary_INR|\n",
            "+----------+-----------+---------------+----------+--------------------+-------------------+--------------------+------------------+----------------+--------+---------+----------+\n",
            "|         0| EMP0000001|  Joshua Nguyen|        IT|   Software Engineer|2011-08-10 00:00:00|  Isaacland, Denmark|               5.0|            14.0|Resigned|  On-site| 1585363.0|\n",
            "|         1| EMP0000002| Julie Williams| Marketing|      SEO Specialist|2018-03-02 00:00:00|Anthonyside, Cost...|               2.0|             7.0|  Active|  On-site|  847686.0|\n",
            "|         2| EMP0000003|Alyssa Martinez|        HR|          HR Manager|2023-03-20 00:00:00|Port Christinapor...|               1.0|             2.0|  Active|  On-site| 1430084.0|\n",
            "|         3| EMP0000004|Nicholas Valdez|        IT|   Software Engineer|2023-10-12 00:00:00|Port Shelbycheste...|               1.0|             1.0|  Active|  On-site|  990689.0|\n",
            "|         4| EMP0000005| Joel Hendricks|Operations|Logistics Coordin...|2024-12-09 00:00:00|Lake Kimberly, Pa...|               5.0|             0.0|  Active|  On-site|  535082.0|\n",
            "+----------+-----------+---------------+----------+--------------------+-------------------+--------------------+------------------+----------------+--------+---------+----------+\n",
            "only showing top 5 rows\n",
            "\n"
          ]
        }
      ]
    },
    {
      "cell_type": "code",
      "source": [
        "df.describe().show()"
      ],
      "metadata": {
        "colab": {
          "base_uri": "https://localhost:8080/"
        },
        "id": "XcpT4zT0aZTN",
        "outputId": "becc655c-ea99-46cb-d2a8-306287d87aab"
      },
      "execution_count": null,
      "outputs": [
        {
          "output_type": "stream",
          "name": "stdout",
          "text": [
            "+-------+----------------+-----------+-------------+----------+--------------------+-------------------+------------------+------------------+----------+---------+------------------+\n",
            "|summary|      Unnamed: 0|Employee_ID|    Full_Name|Department|           Job_Title|           Location|Performance_Rating|  Experience_Years|    Status|Work_Mode|        Salary_INR|\n",
            "+-------+----------------+-----------+-------------+----------+--------------------+-------------------+------------------+------------------+----------+---------+------------------+\n",
            "|  count|         2000000|    2000000|      2000000|   2000000|             2000000|            2000000|           2000000|           2000000|   2000000|  2000000|           2000000|\n",
            "|   mean|        999999.5|       NULL|         NULL|      NULL|                NULL|               NULL|         3.0001485|          5.010287|      NULL|     NULL|    896887.7556635|\n",
            "| stddev|577350.413527175|       NULL|         NULL|      NULL|                NULL|               NULL| 1.413972587289788|3.6088230338204377|      NULL|     NULL|402610.30443774944|\n",
            "|    min|               0| EMP0000001| Aaron Abbott|   Finance|     Account Manager|Aaronberg, Anguilla|               1.0|               0.0|    Active|  On-site|          300000.0|\n",
            "|    max|          999999| EMP2000000|Zoe Zimmerman|     Sales|Talent Acquisitio...|Zunigaville, Zambia|               5.0|              15.0|Terminated|   Remote|         2999976.0|\n",
            "+-------+----------------+-----------+-------------+----------+--------------------+-------------------+------------------+------------------+----------+---------+------------------+\n",
            "\n"
          ]
        }
      ]
    },
    {
      "cell_type": "code",
      "source": [
        "sampled_df = df.sample(withReplacement=False, fraction=1.0, seed=4495).limit(5000)"
      ],
      "metadata": {
        "id": "FvCoeOGpYak3"
      },
      "execution_count": null,
      "outputs": []
    },
    {
      "cell_type": "code",
      "source": [
        "sampled_df.describe().show()"
      ],
      "metadata": {
        "colab": {
          "base_uri": "https://localhost:8080/"
        },
        "id": "icLajCYUaQRI",
        "outputId": "4cf64f05-a2ab-43f1-9097-a39ad8437f6b"
      },
      "execution_count": null,
      "outputs": [
        {
          "output_type": "stream",
          "name": "stdout",
          "text": [
            "+-------+------------------+-----------+---------------+----------+--------------------+-----------------+------------------+------------------+----------+---------+------------------+\n",
            "|summary|        Unnamed: 0|Employee_ID|      Full_Name|Department|           Job_Title|         Location|Performance_Rating|  Experience_Years|    Status|Work_Mode|        Salary_INR|\n",
            "+-------+------------------+-----------+---------------+----------+--------------------+-----------------+------------------+------------------+----------+---------+------------------+\n",
            "|  count|              5000|       5000|           5000|      5000|                5000|             5000|              5000|              5000|      5000|     5000|              5000|\n",
            "|   mean|            2499.5|       NULL|           NULL|      NULL|                NULL|             NULL|            2.9614|            5.0364|      NULL|     NULL|       896535.1738|\n",
            "| stddev|1443.5200033252052|       NULL|           NULL|      NULL|                NULL|             NULL|1.4117750039338235|3.6600210642615383|      NULL|     NULL|399240.15857401263|\n",
            "|    min|                 0| EMP0000001|Aaron Alexander|   Finance|     Account Manager|Aaronfort, Cyprus|               1.0|               0.0|    Active|  On-site|          301957.0|\n",
            "|    max|               999| EMP0005000|    Zoe Merritt|     Sales|Talent Acquisitio...| Zoeland, Bolivia|               5.0|              15.0|Terminated|   Remote|         2994359.0|\n",
            "+-------+------------------+-----------+---------------+----------+--------------------+-----------------+------------------+------------------+----------+---------+------------------+\n",
            "\n"
          ]
        }
      ]
    },
    {
      "cell_type": "code",
      "source": [
        "sampled_df.groupBy(\"Job_Title\").count().show(10000)"
      ],
      "metadata": {
        "colab": {
          "base_uri": "https://localhost:8080/"
        },
        "id": "cew3a9UsaS4R",
        "outputId": "337667a1-81ab-462a-d7b9-781880d9939e"
      },
      "execution_count": null,
      "outputs": [
        {
          "output_type": "stream",
          "name": "stdout",
          "text": [
            "+--------------------+-----+\n",
            "|           Job_Title|count|\n",
            "+--------------------+-----+\n",
            "|   Software Engineer|  762|\n",
            "|      SEO Specialist|  182|\n",
            "|          HR Manager|   62|\n",
            "|Logistics Coordin...|  237|\n",
            "|     Finance Manager|   87|\n",
            "|     Account Manager|  269|\n",
            "|   Financial Analyst|  153|\n",
            "|     Sales Executive|  507|\n",
            "|Operations Executive|  389|\n",
            "|        HR Executive|  202|\n",
            "|      Sales Director|   52|\n",
            "|     DevOps Engineer|  234|\n",
            "|  Content Strategist|   95|\n",
            "| Marketing Executive|  314|\n",
            "|  Research Scientist|  114|\n",
            "|          Accountant|  211|\n",
            "|          IT Manager|  136|\n",
            "|Supply Chain Manager|  124|\n",
            "|        Data Analyst|  275|\n",
            "|Talent Acquisitio...|  131|\n",
            "|   Product Developer|   75|\n",
            "| Operations Director|   42|\n",
            "|                 CTO|   76|\n",
            "|Business Developm...|  138|\n",
            "|      Lab Technician|   44|\n",
            "|                 CFO|   31|\n",
            "|       Brand Manager|   25|\n",
            "|         HR Director|   21|\n",
            "|  Innovation Manager|   12|\n",
            "+--------------------+-----+\n",
            "\n"
          ]
        }
      ]
    },
    {
      "cell_type": "code",
      "source": [
        "percentiles = df.approxQuantile(\"Experience_Years\", [0.25, 0.5, 0.75], 0.01)\n",
        "\n",
        "p25 = 3\n",
        "p50 = 8\n",
        "p75 = 11\n",
        "\n",
        "executive_titles = [\"CTO\", \"CFO\", \"HR Director\", \"Operations Director\", \"Sales Director\"]\n",
        "\n",
        "sampled_df = sampled_df.withColumn(\n",
        "    \"Job_Level\",\n",
        "    when(col(\"Job_Title\").isin(executive_titles), \"Executive\")  # top layer first\n",
        "    .when(col(\"Experience_Years\") <= p25, \"Specialist\")\n",
        "    .when((col(\"Experience_Years\") > p25) & (col(\"Experience_Years\") <= p50), \"Analyst\")\n",
        "    .when((col(\"Experience_Years\") > p50) & (col(\"Experience_Years\") <= p75), \"Manager\")\n",
        "    .otherwise(\"Principal\")  # remaining high-experience staff\n",
        ")\n",
        "\n",
        "print(f\"25th: {p25}, 50th: {p50}, 75th: {p75}\")"
      ],
      "metadata": {
        "colab": {
          "base_uri": "https://localhost:8080/"
        },
        "id": "7xVHPmXRbdzb",
        "outputId": "d27fa114-fe44-45c0-96cb-2b1b91aee6e9"
      },
      "execution_count": null,
      "outputs": [
        {
          "output_type": "stream",
          "name": "stdout",
          "text": [
            "25th: 3, 50th: 8, 75th: 11\n"
          ]
        }
      ]
    },
    {
      "cell_type": "code",
      "source": [
        "sampled_df.select([spark_sum(col(c).isNull().cast(\"int\")).alias(c) for c in df.columns]).show()"
      ],
      "metadata": {
        "colab": {
          "base_uri": "https://localhost:8080/"
        },
        "id": "jCmUzGBjsfN-",
        "outputId": "80d02039-7b33-4d02-c3a8-d46eb569e268"
      },
      "execution_count": null,
      "outputs": [
        {
          "output_type": "stream",
          "name": "stdout",
          "text": [
            "+----------+-----------+---------+----------+---------+---------+--------+------------------+----------------+------+---------+----------+\n",
            "|Unnamed: 0|Employee_ID|Full_Name|Department|Job_Title|Hire_Date|Location|Performance_Rating|Experience_Years|Status|Work_Mode|Salary_INR|\n",
            "+----------+-----------+---------+----------+---------+---------+--------+------------------+----------------+------+---------+----------+\n",
            "|         0|          0|        0|         0|        0|        0|       0|                 0|               0|     0|        0|         0|\n",
            "+----------+-----------+---------+----------+---------+---------+--------+------------------+----------------+------+---------+----------+\n",
            "\n"
          ]
        }
      ]
    },
    {
      "cell_type": "code",
      "source": [
        "sampled_df.groupBy(\"Job_Level\", \"Status\").count().orderBy(\"Job_Level\").show(10000)"
      ],
      "metadata": {
        "colab": {
          "base_uri": "https://localhost:8080/"
        },
        "id": "dMm8r-sbs228",
        "outputId": "a4b9d70c-ec36-4f3a-f9b0-f0dbacec02c1"
      },
      "execution_count": null,
      "outputs": [
        {
          "output_type": "stream",
          "name": "stdout",
          "text": [
            "+----------+----------+-----+\n",
            "| Job_Level|    Status|count|\n",
            "+----------+----------+-----+\n",
            "|   Analyst|    Active| 1387|\n",
            "|   Analyst|  Resigned|  369|\n",
            "|   Analyst|Terminated|   96|\n",
            "|   Analyst|   Retired|  114|\n",
            "| Executive|    Active|  149|\n",
            "| Executive|   Retired|   12|\n",
            "| Executive|  Resigned|   52|\n",
            "| Executive|Terminated|    9|\n",
            "|   Manager|    Active|  430|\n",
            "|   Manager|  Resigned|  113|\n",
            "|   Manager|   Retired|   32|\n",
            "|   Manager|Terminated|   28|\n",
            "| Principal|  Resigned|   59|\n",
            "| Principal|    Active|  216|\n",
            "| Principal|   Retired|   10|\n",
            "| Principal|Terminated|   12|\n",
            "|Specialist|    Active| 1326|\n",
            "|Specialist|  Resigned|  389|\n",
            "|Specialist|   Retired|  102|\n",
            "|Specialist|Terminated|   95|\n",
            "+----------+----------+-----+\n",
            "\n"
          ]
        }
      ]
    },
    {
      "cell_type": "code",
      "source": [
        "sampled_df.write.option(\"header\", True).mode(\"overwrite\").csv(\"/content/drive/MyDrive/Estudos/Douglas College - Pós/Applied Research/initial_dataset.csv\")"
      ],
      "metadata": {
        "id": "OYCNPL2jvAVv"
      },
      "execution_count": null,
      "outputs": []
    },
    {
      "cell_type": "code",
      "source": [
        "sampled_df.groupBy(\"Status\").count().show(10000)"
      ],
      "metadata": {
        "colab": {
          "base_uri": "https://localhost:8080/"
        },
        "id": "UryHrobpvIUH",
        "outputId": "6459b0f3-fa33-4f06-e25a-a92024563323"
      },
      "execution_count": null,
      "outputs": [
        {
          "output_type": "stream",
          "name": "stdout",
          "text": [
            "+----------+-----+\n",
            "|    Status|count|\n",
            "+----------+-----+\n",
            "|  Resigned|  982|\n",
            "|    Active| 3508|\n",
            "|Terminated|  240|\n",
            "|   Retired|  270|\n",
            "+----------+-----+\n",
            "\n"
          ]
        }
      ]
    }
  ]
}