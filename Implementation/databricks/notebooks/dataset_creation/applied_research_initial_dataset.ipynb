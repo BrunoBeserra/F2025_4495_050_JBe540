{
  "nbformat": 4,
  "nbformat_minor": 0,
  "metadata": {
    "colab": {
      "provenance": []
    },
    "kernelspec": {
      "name": "python3",
      "display_name": "Python 3"
    },
    "language_info": {
      "name": "python"
    }
  },
  "cells": [
    {
      "cell_type": "markdown",
      "source": [
        "### Notebook to create Initial dataset sample for the project with employees data"
      ],
      "metadata": {
        "id": "77ZL5oDiYIle"
      }
    },
    {
      "cell_type": "code",
      "execution_count": 1,
      "metadata": {
        "id": "nGAKzdAfX-fP"
      },
      "outputs": [],
      "source": [
        "from pyspark.sql import SparkSession\n",
        "from pyspark.sql.functions import col, sum as spark_sum, when, lit\n",
        "import pandas as pd\n",
        "import numpy as np\n",
        "from datetime import datetime\n",
        "from dateutil.relativedelta import relativedelta"
      ]
    },
    {
      "cell_type": "code",
      "source": [
        "spark = SparkSession.builder \\\n",
        "    .appName(\"HR Dataset Analysis\") \\\n",
        "    .getOrCreate()"
      ],
      "metadata": {
        "id": "FZPgOD2WYZ8Z"
      },
      "execution_count": 2,
      "outputs": []
    },
    {
      "cell_type": "code",
      "source": [
        "df = spark.read.format(\"csv\").option(\"header\",True).load(\"/content/drive/MyDrive/Estudos/Douglas College - Pós/Applied Research/HR_Data_MNC_Data Science Lovers.csv\")"
      ],
      "metadata": {
        "id": "i1RrPOTJYaWn"
      },
      "execution_count": 3,
      "outputs": []
    },
    {
      "cell_type": "code",
      "source": [
        "df.printSchema()"
      ],
      "metadata": {
        "colab": {
          "base_uri": "https://localhost:8080/"
        },
        "id": "3jSThO26YaGo",
        "outputId": "2e5d52b9-eb39-48be-e024-2f5529ef41c5"
      },
      "execution_count": 4,
      "outputs": [
        {
          "output_type": "stream",
          "name": "stdout",
          "text": [
            "root\n",
            " |-- Unnamed: 0: string (nullable = true)\n",
            " |-- Employee_ID: string (nullable = true)\n",
            " |-- Full_Name: string (nullable = true)\n",
            " |-- Department: string (nullable = true)\n",
            " |-- Job_Title: string (nullable = true)\n",
            " |-- Hire_Date: string (nullable = true)\n",
            " |-- Location: string (nullable = true)\n",
            " |-- Performance_Rating: string (nullable = true)\n",
            " |-- Experience_Years: string (nullable = true)\n",
            " |-- Status: string (nullable = true)\n",
            " |-- Work_Mode: string (nullable = true)\n",
            " |-- Salary_INR: string (nullable = true)\n",
            "\n"
          ]
        }
      ]
    },
    {
      "cell_type": "code",
      "source": [
        "df = df.withColumn(\"Experience_Years\", col(\"Experience_Years\").cast(\"double\")) \\\n",
        "        .withColumn(\"Salary_INR\", col(\"Salary_INR\").cast(\"double\")) \\\n",
        "        .withColumn(\"Performance_Rating\", col(\"Performance_Rating\").cast(\"double\")) \\\n",
        "        .withColumn(\"Hire_Date\", col(\"Hire_Date\").cast(\"timestamp\"))\n"
      ],
      "metadata": {
        "id": "PIZSHt05rL0P"
      },
      "execution_count": 5,
      "outputs": []
    },
    {
      "cell_type": "code",
      "source": [
        "df.show(5)"
      ],
      "metadata": {
        "colab": {
          "base_uri": "https://localhost:8080/"
        },
        "id": "anVrl18aYaN6",
        "outputId": "f56e118c-5f51-4034-d2e5-28bb59259b3a"
      },
      "execution_count": 6,
      "outputs": [
        {
          "output_type": "stream",
          "name": "stdout",
          "text": [
            "+----------+-----------+---------------+----------+--------------------+-------------------+--------------------+------------------+----------------+--------+---------+----------+\n",
            "|Unnamed: 0|Employee_ID|      Full_Name|Department|           Job_Title|          Hire_Date|            Location|Performance_Rating|Experience_Years|  Status|Work_Mode|Salary_INR|\n",
            "+----------+-----------+---------------+----------+--------------------+-------------------+--------------------+------------------+----------------+--------+---------+----------+\n",
            "|         0| EMP0000001|  Joshua Nguyen|        IT|   Software Engineer|2011-08-10 00:00:00|  Isaacland, Denmark|               5.0|            14.0|Resigned|  On-site| 1585363.0|\n",
            "|         1| EMP0000002| Julie Williams| Marketing|      SEO Specialist|2018-03-02 00:00:00|Anthonyside, Cost...|               2.0|             7.0|  Active|  On-site|  847686.0|\n",
            "|         2| EMP0000003|Alyssa Martinez|        HR|          HR Manager|2023-03-20 00:00:00|Port Christinapor...|               1.0|             2.0|  Active|  On-site| 1430084.0|\n",
            "|         3| EMP0000004|Nicholas Valdez|        IT|   Software Engineer|2023-10-12 00:00:00|Port Shelbycheste...|               1.0|             1.0|  Active|  On-site|  990689.0|\n",
            "|         4| EMP0000005| Joel Hendricks|Operations|Logistics Coordin...|2024-12-09 00:00:00|Lake Kimberly, Pa...|               5.0|             0.0|  Active|  On-site|  535082.0|\n",
            "+----------+-----------+---------------+----------+--------------------+-------------------+--------------------+------------------+----------------+--------+---------+----------+\n",
            "only showing top 5 rows\n",
            "\n"
          ]
        }
      ]
    },
    {
      "cell_type": "code",
      "source": [
        "df.describe().show()"
      ],
      "metadata": {
        "colab": {
          "base_uri": "https://localhost:8080/"
        },
        "id": "XcpT4zT0aZTN",
        "outputId": "d1ea348e-dfd8-4d0f-b3fe-19d7304b598e"
      },
      "execution_count": 7,
      "outputs": [
        {
          "output_type": "stream",
          "name": "stdout",
          "text": [
            "+-------+----------------+-----------+-------------+----------+--------------------+-------------------+------------------+------------------+----------+---------+------------------+\n",
            "|summary|      Unnamed: 0|Employee_ID|    Full_Name|Department|           Job_Title|           Location|Performance_Rating|  Experience_Years|    Status|Work_Mode|        Salary_INR|\n",
            "+-------+----------------+-----------+-------------+----------+--------------------+-------------------+------------------+------------------+----------+---------+------------------+\n",
            "|  count|         2000000|    2000000|      2000000|   2000000|             2000000|            2000000|           2000000|           2000000|   2000000|  2000000|           2000000|\n",
            "|   mean|        999999.5|       NULL|         NULL|      NULL|                NULL|               NULL|         3.0001485|          5.010287|      NULL|     NULL|    896887.7556635|\n",
            "| stddev|577350.413527175|       NULL|         NULL|      NULL|                NULL|               NULL| 1.413972587289788|3.6088230338204377|      NULL|     NULL|402610.30443774944|\n",
            "|    min|               0| EMP0000001| Aaron Abbott|   Finance|     Account Manager|Aaronberg, Anguilla|               1.0|               0.0|    Active|  On-site|          300000.0|\n",
            "|    max|          999999| EMP2000000|Zoe Zimmerman|     Sales|Talent Acquisitio...|Zunigaville, Zambia|               5.0|              15.0|Terminated|   Remote|         2999976.0|\n",
            "+-------+----------------+-----------+-------------+----------+--------------------+-------------------+------------------+------------------+----------+---------+------------------+\n",
            "\n"
          ]
        }
      ]
    },
    {
      "cell_type": "code",
      "source": [
        "sampled_df = df.sample(withReplacement=False, fraction=1.0, seed=4495).limit(5000)"
      ],
      "metadata": {
        "id": "FvCoeOGpYak3"
      },
      "execution_count": 8,
      "outputs": []
    },
    {
      "cell_type": "code",
      "source": [
        "sampled_df.describe().show()"
      ],
      "metadata": {
        "colab": {
          "base_uri": "https://localhost:8080/"
        },
        "id": "icLajCYUaQRI",
        "outputId": "423c4f52-6730-4fe8-a73f-954dc0f83b84"
      },
      "execution_count": 9,
      "outputs": [
        {
          "output_type": "stream",
          "name": "stdout",
          "text": [
            "+-------+------------------+-----------+---------------+----------+--------------------+-----------------+------------------+------------------+----------+---------+------------------+\n",
            "|summary|        Unnamed: 0|Employee_ID|      Full_Name|Department|           Job_Title|         Location|Performance_Rating|  Experience_Years|    Status|Work_Mode|        Salary_INR|\n",
            "+-------+------------------+-----------+---------------+----------+--------------------+-----------------+------------------+------------------+----------+---------+------------------+\n",
            "|  count|              5000|       5000|           5000|      5000|                5000|             5000|              5000|              5000|      5000|     5000|              5000|\n",
            "|   mean|            2499.5|       NULL|           NULL|      NULL|                NULL|             NULL|            2.9614|            5.0364|      NULL|     NULL|       896535.1738|\n",
            "| stddev|1443.5200033252052|       NULL|           NULL|      NULL|                NULL|             NULL|1.4117750039338235|3.6600210642615383|      NULL|     NULL|399240.15857401263|\n",
            "|    min|                 0| EMP0000001|Aaron Alexander|   Finance|     Account Manager|Aaronfort, Cyprus|               1.0|               0.0|    Active|  On-site|          301957.0|\n",
            "|    max|               999| EMP0005000|    Zoe Merritt|     Sales|Talent Acquisitio...| Zoeland, Bolivia|               5.0|              15.0|Terminated|   Remote|         2994359.0|\n",
            "+-------+------------------+-----------+---------------+----------+--------------------+-----------------+------------------+------------------+----------+---------+------------------+\n",
            "\n"
          ]
        }
      ]
    },
    {
      "cell_type": "code",
      "source": [
        "sampled_df.groupBy(\"Job_Title\").count().show(10000)"
      ],
      "metadata": {
        "colab": {
          "base_uri": "https://localhost:8080/"
        },
        "id": "cew3a9UsaS4R",
        "outputId": "35366466-a811-4a0c-e0fc-bddfceb9d185"
      },
      "execution_count": 10,
      "outputs": [
        {
          "output_type": "stream",
          "name": "stdout",
          "text": [
            "+--------------------+-----+\n",
            "|           Job_Title|count|\n",
            "+--------------------+-----+\n",
            "|   Software Engineer|  762|\n",
            "|      SEO Specialist|  182|\n",
            "|          HR Manager|   62|\n",
            "|Logistics Coordin...|  237|\n",
            "|     Finance Manager|   87|\n",
            "|     Account Manager|  269|\n",
            "|   Financial Analyst|  153|\n",
            "|     Sales Executive|  507|\n",
            "|Operations Executive|  389|\n",
            "|        HR Executive|  202|\n",
            "|      Sales Director|   52|\n",
            "|     DevOps Engineer|  234|\n",
            "|  Content Strategist|   95|\n",
            "| Marketing Executive|  314|\n",
            "|  Research Scientist|  114|\n",
            "|          Accountant|  211|\n",
            "|          IT Manager|  136|\n",
            "|Supply Chain Manager|  124|\n",
            "|        Data Analyst|  275|\n",
            "|Talent Acquisitio...|  131|\n",
            "|   Product Developer|   75|\n",
            "| Operations Director|   42|\n",
            "|                 CTO|   76|\n",
            "|Business Developm...|  138|\n",
            "|      Lab Technician|   44|\n",
            "|                 CFO|   31|\n",
            "|       Brand Manager|   25|\n",
            "|         HR Director|   21|\n",
            "|  Innovation Manager|   12|\n",
            "+--------------------+-----+\n",
            "\n"
          ]
        }
      ]
    },
    {
      "cell_type": "code",
      "source": [
        "executive_titles = [\"CTO\", \"CFO\", \"HR Director\", \"Operations Director\", \"Sales Director\"]\n",
        "\n",
        "p25 = 3\n",
        "p50 = 8\n",
        "p75 = 11\n",
        "\n",
        "df = df.withColumn(\n",
        "    \"Job_Level\",\n",
        "    when(col(\"Job_Title\").isin(executive_titles), \"Executive\")\n",
        "    .when(col(\"Experience_Years\") <= p25, \"Specialist\")\n",
        "    .when((col(\"Experience_Years\") > p25) & (col(\"Experience_Years\") <= p50), \"Analyst\")\n",
        "    .when((col(\"Experience_Years\") > p50) & (col(\"Experience_Years\") <= p75), \"Manager\")\n",
        "    .otherwise(\"Principal\")\n",
        ")\n"
      ],
      "metadata": {
        "id": "aAH_pbCn_NgN"
      },
      "execution_count": 11,
      "outputs": []
    },
    {
      "cell_type": "code",
      "source": [
        "percentiles = df.approxQuantile(\"Experience_Years\", [0.25, 0.5, 0.75], 0.01)\n",
        "\n",
        "p25 = 3\n",
        "p50 = 8\n",
        "p75 = 11\n",
        "\n",
        "executive_titles = [\"CTO\", \"CFO\", \"HR Director\", \"Operations Director\", \"Sales Director\"]\n",
        "\n",
        "sampled_df = sampled_df.withColumn(\n",
        "    \"Job_Level\",\n",
        "    when(col(\"Job_Title\").isin(executive_titles), \"Executive\")\n",
        "    .when(col(\"Experience_Years\") <= p25, \"Specialist\")\n",
        "    .when((col(\"Experience_Years\") > p25) & (col(\"Experience_Years\") <= p50), \"Analyst\")\n",
        "    .when((col(\"Experience_Years\") > p50) & (col(\"Experience_Years\") <= p75), \"Manager\")\n",
        "    .otherwise(\"Principal\")\n",
        ")\n",
        "\n",
        "print(f\"25th: {p25}, 50th: {p50}, 75th: {p75}\")"
      ],
      "metadata": {
        "colab": {
          "base_uri": "https://localhost:8080/"
        },
        "id": "7xVHPmXRbdzb",
        "outputId": "fca7ba3a-6655-4483-9073-13e322335a5f"
      },
      "execution_count": 12,
      "outputs": [
        {
          "output_type": "stream",
          "name": "stdout",
          "text": [
            "25th: 3, 50th: 8, 75th: 11\n"
          ]
        }
      ]
    },
    {
      "cell_type": "code",
      "source": [
        "sampled_df.select([spark_sum(col(c).isNull().cast(\"int\")).alias(c) for c in df.columns]).show()"
      ],
      "metadata": {
        "colab": {
          "base_uri": "https://localhost:8080/"
        },
        "id": "jCmUzGBjsfN-",
        "outputId": "14af9f5c-23b6-4bdd-e3df-199ccc7f7759"
      },
      "execution_count": 13,
      "outputs": [
        {
          "output_type": "stream",
          "name": "stdout",
          "text": [
            "+----------+-----------+---------+----------+---------+---------+--------+------------------+----------------+------+---------+----------+---------+\n",
            "|Unnamed: 0|Employee_ID|Full_Name|Department|Job_Title|Hire_Date|Location|Performance_Rating|Experience_Years|Status|Work_Mode|Salary_INR|Job_Level|\n",
            "+----------+-----------+---------+----------+---------+---------+--------+------------------+----------------+------+---------+----------+---------+\n",
            "|         0|          0|        0|         0|        0|        0|       0|                 0|               0|     0|        0|         0|        0|\n",
            "+----------+-----------+---------+----------+---------+---------+--------+------------------+----------------+------+---------+----------+---------+\n",
            "\n"
          ]
        }
      ]
    },
    {
      "cell_type": "code",
      "source": [
        "sampled_df.groupBy(\"Job_Level\", \"Status\").count().orderBy(\"Job_Level\").show(10000)"
      ],
      "metadata": {
        "colab": {
          "base_uri": "https://localhost:8080/"
        },
        "id": "dMm8r-sbs228",
        "outputId": "ff4c4d1b-da2a-46ae-f07a-9a84a24d54a6"
      },
      "execution_count": 14,
      "outputs": [
        {
          "output_type": "stream",
          "name": "stdout",
          "text": [
            "+----------+----------+-----+\n",
            "| Job_Level|    Status|count|\n",
            "+----------+----------+-----+\n",
            "|   Analyst|    Active| 1387|\n",
            "|   Analyst|  Resigned|  369|\n",
            "|   Analyst|Terminated|   96|\n",
            "|   Analyst|   Retired|  114|\n",
            "| Executive|    Active|  149|\n",
            "| Executive|   Retired|   12|\n",
            "| Executive|  Resigned|   52|\n",
            "| Executive|Terminated|    9|\n",
            "|   Manager|    Active|  430|\n",
            "|   Manager|  Resigned|  113|\n",
            "|   Manager|   Retired|   32|\n",
            "|   Manager|Terminated|   28|\n",
            "| Principal|  Resigned|   59|\n",
            "| Principal|    Active|  216|\n",
            "| Principal|   Retired|   10|\n",
            "| Principal|Terminated|   12|\n",
            "|Specialist|    Active| 1326|\n",
            "|Specialist|  Resigned|  389|\n",
            "|Specialist|   Retired|  102|\n",
            "|Specialist|Terminated|   95|\n",
            "+----------+----------+-----+\n",
            "\n"
          ]
        }
      ]
    },
    {
      "cell_type": "code",
      "source": [
        "sampled_df.write.option(\"header\", True).mode(\"overwrite\").csv(\"/content/drive/MyDrive/Estudos/Douglas College - Pós/Applied Research/initial_dataset.csv\")"
      ],
      "metadata": {
        "id": "OYCNPL2jvAVv"
      },
      "execution_count": 15,
      "outputs": []
    },
    {
      "cell_type": "code",
      "source": [
        "sampled_df.groupBy(\"Status\").count().show(10000)"
      ],
      "metadata": {
        "colab": {
          "base_uri": "https://localhost:8080/"
        },
        "id": "UryHrobpvIUH",
        "outputId": "a79e661e-2ded-4cbb-bb0e-b3e74bc9de36"
      },
      "execution_count": 16,
      "outputs": [
        {
          "output_type": "stream",
          "name": "stdout",
          "text": [
            "+----------+-----+\n",
            "|    Status|count|\n",
            "+----------+-----+\n",
            "|  Resigned|  982|\n",
            "|    Active| 3508|\n",
            "|Terminated|  240|\n",
            "|   Retired|  270|\n",
            "+----------+-----+\n",
            "\n"
          ]
        }
      ]
    },
    {
      "cell_type": "code",
      "source": [
        "sampled_df.select([\"department\"]).distinct().show(300)"
      ],
      "metadata": {
        "colab": {
          "base_uri": "https://localhost:8080/"
        },
        "id": "JHkOIkLP8hgt",
        "outputId": "c0ce0838-6bd5-4bd8-f032-31e165d0de40"
      },
      "execution_count": 17,
      "outputs": [
        {
          "output_type": "stream",
          "name": "stdout",
          "text": [
            "+----------+\n",
            "|department|\n",
            "+----------+\n",
            "|        IT|\n",
            "| Marketing|\n",
            "|        HR|\n",
            "|Operations|\n",
            "|   Finance|\n",
            "|     Sales|\n",
            "|       R&D|\n",
            "+----------+\n",
            "\n"
          ]
        }
      ]
    },
    {
      "cell_type": "code",
      "source": [
        "np.random.seed(4495)"
      ],
      "metadata": {
        "id": "Ora1WkbH8reS"
      },
      "execution_count": 18,
      "outputs": []
    },
    {
      "cell_type": "code",
      "source": [
        "start_date = datetime(2025, 10, 1)\n",
        "months = 84\n",
        "snapshot_dates = [start_date + relativedelta(months=i) for i in range(months)]"
      ],
      "metadata": {
        "id": "OQuLKvqY_qIR"
      },
      "execution_count": 19,
      "outputs": []
    },
    {
      "cell_type": "code",
      "source": [
        "departments = [\"IT\", \"Marketing\", \"HR\", \"Operations\", \"Finance\", \"Sales\", \"R&D\"]\n",
        "leave_reasons = [\"Resigned\", \"Terminated\", \"Retired\"]\n",
        "promotion_milestones = [36, 60, 96]  # in months\n",
        "monthly_hiring_rate = 0.05  # 5% of initial count every 4 months"
      ],
      "metadata": {
        "id": "MtX-Gx_e_s9b"
      },
      "execution_count": 20,
      "outputs": []
    },
    {
      "cell_type": "code",
      "source": [
        "sampled_df = sampled_df.toPandas()\n",
        "df = df.toPandas()"
      ],
      "metadata": {
        "id": "0i9XN_ZOBLkt"
      },
      "execution_count": 21,
      "outputs": []
    },
    {
      "cell_type": "code",
      "source": [
        "sampled_df = sampled_df.copy()\n",
        "df = df.copy()"
      ],
      "metadata": {
        "id": "RcTAuY9pAeFq"
      },
      "execution_count": 22,
      "outputs": []
    },
    {
      "cell_type": "code",
      "source": [
        "sampled_df[\"Hire_Date\"] = pd.to_datetime(sampled_df[\"Hire_Date\"])\n",
        "df[\"Hire_Date\"] = pd.to_datetime(df[\"Hire_Date\"])"
      ],
      "metadata": {
        "id": "oTVsdIHBAiyY"
      },
      "execution_count": 23,
      "outputs": []
    },
    {
      "cell_type": "code",
      "source": [
        "sampled_df[\"promotion_count\"] = 0\n",
        "sampled_df[\"month\"] = 0\n",
        "sampled_df[\"Status\"] = \"Active\""
      ],
      "metadata": {
        "id": "TW5RsEQBAku_"
      },
      "execution_count": 24,
      "outputs": []
    },
    {
      "cell_type": "code",
      "source": [
        "used_ids = set(sampled_df[\"Employee_ID\"])"
      ],
      "metadata": {
        "id": "sDlEYUWPAnnl"
      },
      "execution_count": 25,
      "outputs": []
    },
    {
      "cell_type": "code",
      "source": [
        "snapshots = []"
      ],
      "metadata": {
        "id": "1PtfX2iwAozN"
      },
      "execution_count": 26,
      "outputs": []
    },
    {
      "cell_type": "code",
      "source": [
        "for i, snapshot_date in enumerate(snapshot_dates, start=1):\n",
        "    current_emps = sampled_df[sampled_df[\"Hire_Date\"] <= snapshot_date].copy()\n",
        "\n",
        "    current_emps[\"time_in_company\"] = (\n",
        "        (snapshot_date.year - current_emps[\"Hire_Date\"].dt.year) * 12 +\n",
        "        (snapshot_date.month - current_emps[\"Hire_Date\"].dt.month)\n",
        "    )\n",
        "\n",
        "    if i % 4 == 0:\n",
        "        move_mask = (np.random.rand(len(current_emps)) < 0.05) & (current_emps[\"Status\"] == \"Active\")\n",
        "        current_emps.loc[move_mask, \"Department\"] = np.random.choice(departments, size=move_mask.sum())\n",
        "\n",
        "    if i % 10 == 0:\n",
        "        active_mask = current_emps[\"Status\"] == \"Active\"\n",
        "        leave_mask = (np.random.rand(len(current_emps)) < 0.10) & active_mask\n",
        "        current_emps.loc[leave_mask, \"Status\"] = np.random.choice(leave_reasons, size=leave_mask.sum())\n",
        "\n",
        "    for milestone in promotion_milestones:\n",
        "        promo_mask = (current_emps[\"time_in_company\"] == milestone) & (current_emps[\"Status\"] == \"Active\")\n",
        "        current_emps.loc[promo_mask, \"promotion_count\"] += 1\n",
        "\n",
        "    if i % 4 == 0:\n",
        "        available_pool = df[~df[\"Employee_ID\"].isin(used_ids)]\n",
        "        n_hires = int(len(sampled_df) * monthly_hiring_rate)\n",
        "\n",
        "        if len(available_pool) >= n_hires:\n",
        "            new_hires = available_pool.sample(n=n_hires, random_state=4495)\n",
        "            new_hires = new_hires.copy()\n",
        "            new_hires[\"promotion_count\"] = 0\n",
        "            new_hires[\"month\"] = i\n",
        "            new_hires[\"Status\"] = \"Active\"\n",
        "            new_hires[\"Hire_Date\"] = snapshot_date\n",
        "            sampled_df = pd.concat([sampled_df, new_hires], ignore_index=True)\n",
        "            used_ids.update(new_hires[\"Employee_ID\"])\n",
        "\n",
        "    current_emps[\"month\"] = i\n",
        "    current_emps[\"snapshot_date\"] = snapshot_date.strftime(\"%Y-%m-%d\")\n",
        "    snapshots.append(current_emps)\n",
        "\n",
        "result_df = pd.concat(snapshots, ignore_index=True)"
      ],
      "metadata": {
        "id": "UDuY6DSuAs8B"
      },
      "execution_count": 27,
      "outputs": []
    },
    {
      "cell_type": "code",
      "source": [
        "result_df.to_csv(\"employee_snapshots_final.csv\", index=False)"
      ],
      "metadata": {
        "id": "yLIFTpvtA1GT"
      },
      "execution_count": 28,
      "outputs": []
    }
  ]
}