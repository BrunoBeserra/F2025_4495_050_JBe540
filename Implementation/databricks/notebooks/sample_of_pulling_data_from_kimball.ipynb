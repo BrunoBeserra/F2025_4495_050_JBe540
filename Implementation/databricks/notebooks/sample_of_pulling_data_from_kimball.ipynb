{
 "cells": [
  {
   "cell_type": "code",
   "execution_count": 0,
   "metadata": {
    "application/vnd.databricks.v1+cell": {
     "cellMetadata": {
      "byteLimit": 2048000,
      "rowLimit": 10000
     },
     "inputWidgets": {},
     "nuid": "49a26bc9-c498-4dc2-a466-4db51dbffd0d",
     "showTitle": false,
     "tableResultSettingsMap": {},
     "title": ""
    }
   },
   "outputs": [],
   "source": [
    "df = spark.sql(\"\"\"\n",
    "               SELECT f.employee_id,\n",
    "               f.full_name,\n",
    "               f.hire_date,\n",
    "               d.name AS `department_name`, \n",
    "               jl.name AS `job_level`,\n",
    "               jt.name AS `job_title`,\n",
    "               l.name AS `location`,\n",
    "               s.name AS `status`,\n",
    "               wm.name AS `work_mode`,\n",
    "               f.performance_rating,\n",
    "               f.experience_years,\n",
    "               f.annual_salary,\n",
    "               f.ingestion_timestamp\n",
    "               FROM workspace.default.fact_table_gold_hr_data AS f\n",
    "               LEFT JOIN workspace.default.dim_department_gold AS d ON (f.department_id = d.id)\n",
    "               LEFT JOIN workspace.default.dim_job_level_gold AS jl ON (f.job_level_id = jl.id)\n",
    "               LEFT JOIN workspace.default.dim_job_title_gold AS jt ON (f.job_title_id = jt.id)\n",
    "               LEFT JOIN workspace.default.dim_location_gold AS l ON (f.location_id = l.id)\n",
    "               LEFT JOIN workspace.default.dim_status_gold AS s ON (f.status_id = s.id)\n",
    "               LEFT JOIN workspace.default.dim_work_mode_gold AS wm ON (f.work_mode_id = wm.id) \n",
    "               \"\"\")"
   ]
  },
  {
   "cell_type": "code",
   "execution_count": 0,
   "metadata": {
    "application/vnd.databricks.v1+cell": {
     "cellMetadata": {
      "byteLimit": 2048000,
      "rowLimit": 10000
     },
     "inputWidgets": {},
     "nuid": "e11d0dd3-e6f4-45b5-9741-d53710792bfc",
     "showTitle": false,
     "tableResultSettingsMap": {
      "0": {
       "dataGridStateBlob": "{\"version\":1,\"tableState\":{\"columnPinning\":{\"left\":[\"#row_number#\"],\"right\":[]},\"columnSizing\":{},\"columnVisibility\":{}},\"settings\":{\"columns\":{}},\"syncTimestamp\":1761802261752}",
       "filterBlob": null,
       "queryPlanFiltersBlob": null,
       "tableResultIndex": 0
      }
     },
     "title": ""
    }
   },
   "outputs": [],
   "source": [
    "display(df)"
   ]
  },
  {
   "cell_type": "code",
   "execution_count": 0,
   "metadata": {
    "application/vnd.databricks.v1+cell": {
     "cellMetadata": {
      "byteLimit": 2048000,
      "rowLimit": 10000
     },
     "inputWidgets": {},
     "nuid": "0b90e410-a9c1-493c-9d8b-8ed43864fe29",
     "showTitle": false,
     "tableResultSettingsMap": {},
     "title": ""
    }
   },
   "outputs": [],
   "source": []
  }
 ],
 "metadata": {
  "application/vnd.databricks.v1+notebook": {
   "computePreferences": null,
   "dashboards": [],
   "environmentMetadata": {
    "base_environment": "",
    "environment_version": "4"
   },
   "inputWidgetPreferences": null,
   "language": "python",
   "notebookMetadata": {
    "pythonIndentUnit": 4
   },
   "notebookName": "sample_of_pulling_data_from_kimball",
   "widgets": {}
  },
  "language_info": {
   "name": "python"
  }
 },
 "nbformat": 4,
 "nbformat_minor": 0
}
