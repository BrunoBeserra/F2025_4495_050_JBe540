{
 "cells": [
  {
   "cell_type": "markdown",
   "metadata": {
    "application/vnd.databricks.v1+cell": {
     "cellMetadata": {},
     "inputWidgets": {},
     "nuid": "9c522d71-d2b9-4542-961e-fae2bd29fbf1",
     "showTitle": false,
     "tableResultSettingsMap": {},
     "title": ""
    },
    "id": "77ZL5oDiYIle"
   },
   "source": [
    "# Dataset Creation Notebook\n",
    "\n",
    "### CSIS4495-050: Applied Research Project\n",
    "\n",
    "#### End-to-End Data Engineering Solution for HR Analytics\n",
    "\n",
    "Group:\n",
    "- Bruno do Nascimento Beserra\n",
    "- Jay Clark Bermudez\n",
    "- Matheus Filipe Figueiredo\n",
    "\n",
    "Instructor: Dr. Bambang Sarif\n",
    "\n",
    "<hr>\n",
    "\n",
    "### Description:\n",
    "\n",
    "This project simulates the evolution of a mid-sized company with 5,000 employees over a period of seven years. To build the initial workforce, we used a Kaggle dataset containing employee information and extracted a representative sample to serve as our company’s employee force.\n",
    "\n",
    "To showcase our data pipeline solution built with state-of-the-art techniques. We designed a realistic simulation environment that captures key workforce dynamics over time. Throughout the seven-year period, employees may experience promotions, change teams, or leave the company. In parallel, the company will continuously hire new employees, based in their information from the main dataset to keep the workforce evolving.\n",
    "\n",
    "We defined a set of key metrics to guide the algorithm responsible for generating these time-based snapshots. The final output is a structured folder hierarchy following the pattern: \"data/year/month/file.csv\"\n",
    "\n",
    "Each file represents the company’s employee data at a specific point in time that will be used to perform our analytics process.\n",
    "\n",
    "<hr>\n",
    "\n",
    "### Step by Step:\n",
    "\n",
    "- Import Libraries and Dataset\n",
    "- Exploratory Data Analysis (EDA)\n",
    "- Data Cleaning\n",
    "- Dataset Creation (First Snapshot)\n",
    "- Dataset Creation (Historical Snapshots)\n",
    "\n"
   ]
  },
  {
   "cell_type": "markdown",
   "metadata": {
    "application/vnd.databricks.v1+cell": {
     "cellMetadata": {},
     "inputWidgets": {},
     "nuid": "7a2e4da0-908a-4784-82fb-fe10e862ff92",
     "showTitle": false,
     "tableResultSettingsMap": {},
     "title": ""
    },
    "id": "DUcr8ddoBS8f"
   },
   "source": [
    "## Import Libraries and Dataset"
   ]
  },
  {
   "cell_type": "code",
   "execution_count": 0,
   "metadata": {
    "application/vnd.databricks.v1+cell": {
     "cellMetadata": {},
     "inputWidgets": {},
     "nuid": "384a282c-cf38-47e9-9e93-a0d419a4e9d6",
     "showTitle": false,
     "tableResultSettingsMap": {},
     "title": ""
    },
    "id": "nGAKzdAfX-fP"
   },
   "outputs": [],
   "source": [
    "# Import Libraries\n",
    "import pandas as pd\n",
    "import numpy as np\n",
    "from datetime import datetime\n",
    "from dateutil.relativedelta import relativedelta\n",
    "import os"
   ]
  },
  {
   "cell_type": "code",
   "execution_count": 0,
   "metadata": {
    "application/vnd.databricks.v1+cell": {
     "cellMetadata": {},
     "inputWidgets": {},
     "nuid": "197db1e4-8b7d-4211-9661-f3663bd4971d",
     "showTitle": false,
     "tableResultSettingsMap": {},
     "title": ""
    },
    "id": "nSWxtFwgBm1X"
   },
   "outputs": [],
   "source": [
    "# Read Full Dataset\n",
    "df = pd.read_csv(\"/content/drive/MyDrive/Estudos/Douglas College - Pós/Applied Research/HR_Data_MNC_Data Science Lovers.csv\")"
   ]
  },
  {
   "cell_type": "markdown",
   "metadata": {
    "application/vnd.databricks.v1+cell": {
     "cellMetadata": {},
     "inputWidgets": {},
     "nuid": "1cc7d8f7-6ea5-408d-8030-155ea1821c69",
     "showTitle": false,
     "tableResultSettingsMap": {},
     "title": ""
    },
    "id": "5pNPJYJfCa8s"
   },
   "source": [
    "## Exploratory Data Analysis (EDA)"
   ]
  },
  {
   "cell_type": "code",
   "execution_count": 0,
   "metadata": {
    "application/vnd.databricks.v1+cell": {
     "cellMetadata": {},
     "inputWidgets": {},
     "nuid": "6e0cadab-f473-406f-9f6b-a51c6f47121e",
     "showTitle": false,
     "tableResultSettingsMap": {},
     "title": ""
    },
    "colab": {
     "base_uri": "https://localhost:8080/"
    },
    "id": "U4ZbuVANGCWw",
    "outputId": "140979a2-164d-48bf-e48c-0f25929b39b6"
   },
   "outputs": [],
   "source": [
    "# Check Dataset Shape\n",
    "df.shape"
   ]
  },
  {
   "cell_type": "code",
   "execution_count": 0,
   "metadata": {
    "application/vnd.databricks.v1+cell": {
     "cellMetadata": {},
     "inputWidgets": {},
     "nuid": "59c04abf-6b19-4f69-bf56-e005d5cadbe0",
     "showTitle": false,
     "tableResultSettingsMap": {},
     "title": ""
    },
    "colab": {
     "base_uri": "https://localhost:8080/",
     "height": 400
    },
    "id": "a0NqpHtOB5jU",
    "outputId": "2b93928d-5d7f-48d0-8c3d-ddda97b19425"
   },
   "outputs": [],
   "source": [
    "# Confirm the data was imported sucessfully\n",
    "df.head()"
   ]
  },
  {
   "cell_type": "code",
   "execution_count": 0,
   "metadata": {
    "application/vnd.databricks.v1+cell": {
     "cellMetadata": {},
     "inputWidgets": {},
     "nuid": "6a953e45-ca88-44bb-997e-36bdf41a8e4b",
     "showTitle": false,
     "tableResultSettingsMap": {},
     "title": ""
    },
    "colab": {
     "base_uri": "https://localhost:8080/"
    },
    "id": "TsohoLIbCYWL",
    "outputId": "bffd00af-fc19-4ba4-a742-75c277d1e382"
   },
   "outputs": [],
   "source": [
    "# Check basic stats\n",
    "df.info()"
   ]
  },
  {
   "cell_type": "code",
   "execution_count": 0,
   "metadata": {
    "application/vnd.databricks.v1+cell": {
     "cellMetadata": {},
     "inputWidgets": {},
     "nuid": "9f53c87a-c069-4848-809c-d0c72929aee6",
     "showTitle": false,
     "tableResultSettingsMap": {},
     "title": ""
    },
    "colab": {
     "base_uri": "https://localhost:8080/",
     "height": 320
    },
    "id": "fFgItXFEEeNG",
    "outputId": "cba29416-3703-46e7-b192-2fd1305e8521"
   },
   "outputs": [],
   "source": [
    "# Check basic metrics\n",
    "df.describe()"
   ]
  },
  {
   "cell_type": "code",
   "execution_count": 0,
   "metadata": {
    "application/vnd.databricks.v1+cell": {
     "cellMetadata": {},
     "inputWidgets": {},
     "nuid": "34bd331c-94d0-4fc8-9571-366a35b5e815",
     "showTitle": false,
     "tableResultSettingsMap": {},
     "title": ""
    },
    "colab": {
     "base_uri": "https://localhost:8080/",
     "height": 498
    },
    "id": "WUh9i5q0FGSP",
    "outputId": "0deecb37-a4f9-424b-e3ba-dab31d962a6b"
   },
   "outputs": [],
   "source": [
    "# Check Null Values\n",
    "df.isna().sum()"
   ]
  },
  {
   "cell_type": "code",
   "execution_count": 0,
   "metadata": {
    "application/vnd.databricks.v1+cell": {
     "cellMetadata": {},
     "inputWidgets": {},
     "nuid": "bed48ae1-2c63-4cb4-b31f-a616d18f30d9",
     "showTitle": false,
     "tableResultSettingsMap": {},
     "title": ""
    },
    "colab": {
     "base_uri": "https://localhost:8080/",
     "height": 874
    },
    "id": "C_UJOFX-F2_O",
    "outputId": "c0f5d233-da1f-41b9-ea68-eaefc9c45cee"
   },
   "outputs": [],
   "source": [
    "# Check Duplicates\n",
    "df.value_counts()"
   ]
  },
  {
   "cell_type": "markdown",
   "metadata": {
    "application/vnd.databricks.v1+cell": {
     "cellMetadata": {},
     "inputWidgets": {},
     "nuid": "019d037b-10a2-4b4f-8caf-324fa0cad118",
     "showTitle": false,
     "tableResultSettingsMap": {},
     "title": ""
    },
    "id": "6yxDx0JPFN5m"
   },
   "source": [
    "## Data Cleaning"
   ]
  },
  {
   "cell_type": "code",
   "execution_count": 0,
   "metadata": {
    "application/vnd.databricks.v1+cell": {
     "cellMetadata": {},
     "inputWidgets": {},
     "nuid": "2a1bd4c9-c68a-4ec4-bb86-57850bf12c7d",
     "showTitle": false,
     "tableResultSettingsMap": {},
     "title": ""
    },
    "collapsed": true,
    "id": "Xe1x1p1ZGPGF"
   },
   "outputs": [],
   "source": [
    "# Drop Column Unnamed: 0 as it does not aggregate value to the dataset\n",
    "df = df.drop(columns=[\"Unnamed: 0\"])"
   ]
  },
  {
   "cell_type": "code",
   "execution_count": 0,
   "metadata": {
    "application/vnd.databricks.v1+cell": {
     "cellMetadata": {},
     "inputWidgets": {},
     "nuid": "38dd12f8-19bc-4b7b-bc19-781124565a01",
     "showTitle": false,
     "tableResultSettingsMap": {},
     "title": ""
    },
    "id": "C1L4aZErGuv4"
   },
   "outputs": [],
   "source": [
    "# Fix Salary Values to better display Canadian reality\n",
    "df[\"Annual_Salary\"] = df[\"Salary_INR\"]/8\n",
    "df = df.drop(columns=[\"Salary_INR\"])"
   ]
  },
  {
   "cell_type": "code",
   "execution_count": 0,
   "metadata": {
    "application/vnd.databricks.v1+cell": {
     "cellMetadata": {},
     "inputWidgets": {},
     "nuid": "2e887e99-341d-410f-afe0-c348e633d4e6",
     "showTitle": false,
     "tableResultSettingsMap": {},
     "title": ""
    },
    "id": "0Fu4OZL5Ins3"
   },
   "outputs": [],
   "source": [
    "# Fix Column dtype\n",
    "df['Hire_Date'] = pd.to_datetime(df['Hire_Date'])\n",
    "df[df.select_dtypes('object').columns] = df.select_dtypes('object').astype('string')"
   ]
  },
  {
   "cell_type": "code",
   "execution_count": 0,
   "metadata": {
    "application/vnd.databricks.v1+cell": {
     "cellMetadata": {},
     "inputWidgets": {},
     "nuid": "076aa8c4-7bb4-430e-a201-44626d66520d",
     "showTitle": false,
     "tableResultSettingsMap": {},
     "title": ""
    },
    "colab": {
     "base_uri": "https://localhost:8080/"
    },
    "id": "SYcSMdHQIxwP",
    "outputId": "76e128ed-9f7f-4304-c9f6-e2df9b9840bd"
   },
   "outputs": [],
   "source": [
    "# Confirm dtypes\n",
    "df.info()"
   ]
  },
  {
   "cell_type": "code",
   "execution_count": 0,
   "metadata": {
    "application/vnd.databricks.v1+cell": {
     "cellMetadata": {},
     "inputWidgets": {},
     "nuid": "fa0dcf0b-11cb-4000-897d-943f9452ebb0",
     "showTitle": false,
     "tableResultSettingsMap": {},
     "title": ""
    },
    "colab": {
     "base_uri": "https://localhost:8080/",
     "height": 382
    },
    "id": "w5xGU-U6HFxB",
    "outputId": "a91520f2-307a-4fae-926d-14db54f29290"
   },
   "outputs": [],
   "source": [
    "# Confirm dataset Changes\n",
    "df.head()"
   ]
  },
  {
   "cell_type": "markdown",
   "metadata": {
    "application/vnd.databricks.v1+cell": {
     "cellMetadata": {},
     "inputWidgets": {},
     "nuid": "6574f457-a89f-429a-8104-78a198493646",
     "showTitle": false,
     "tableResultSettingsMap": {},
     "title": ""
    },
    "id": "ObUvP6h-Jb2D"
   },
   "source": [
    "## Dataset Creation (First Snapshot)"
   ]
  },
  {
   "cell_type": "code",
   "execution_count": 0,
   "metadata": {
    "application/vnd.databricks.v1+cell": {
     "cellMetadata": {},
     "inputWidgets": {},
     "nuid": "90680d9e-5cc1-4d88-b868-f53b83058bba",
     "showTitle": false,
     "tableResultSettingsMap": {},
     "title": ""
    },
    "id": "J_5Dsf5RJ494"
   },
   "outputs": [],
   "source": [
    "# Simple Subset Slicing\n",
    "sampled_df = df.sample(frac=1.0, random_state=4495).head(5000)"
   ]
  },
  {
   "cell_type": "code",
   "execution_count": 0,
   "metadata": {
    "application/vnd.databricks.v1+cell": {
     "cellMetadata": {},
     "inputWidgets": {},
     "nuid": "7202520b-b6d7-4237-96da-2a42f636c31b",
     "showTitle": false,
     "tableResultSettingsMap": {},
     "title": ""
    },
    "colab": {
     "base_uri": "https://localhost:8080/"
    },
    "id": "0PH8OrX1KMmL",
    "outputId": "c5a1bcc7-1bdd-4469-deee-8339c0af7325"
   },
   "outputs": [],
   "source": [
    "# Confirm sample size\n",
    "sampled_df.shape"
   ]
  },
  {
   "cell_type": "code",
   "execution_count": 0,
   "metadata": {
    "application/vnd.databricks.v1+cell": {
     "cellMetadata": {},
     "inputWidgets": {},
     "nuid": "11c3a14e-b7c2-48c0-97a8-253e54e9ab7a",
     "showTitle": false,
     "tableResultSettingsMap": {},
     "title": ""
    },
    "colab": {
     "base_uri": "https://localhost:8080/",
     "height": 300
    },
    "id": "BK3naI3PKR6i",
    "outputId": "77fae097-8072-4cdb-8be7-fe774ee3b9c8"
   },
   "outputs": [],
   "source": [
    "# Check Slice Stats\n",
    "sampled_df.describe()"
   ]
  },
  {
   "cell_type": "code",
   "execution_count": 0,
   "metadata": {
    "application/vnd.databricks.v1+cell": {
     "cellMetadata": {},
     "inputWidgets": {},
     "nuid": "f7a1ede2-26a8-4c96-a6a5-b4998fc8e034",
     "showTitle": false,
     "tableResultSettingsMap": {},
     "title": ""
    },
    "colab": {
     "base_uri": "https://localhost:8080/"
    },
    "id": "odhTmh_yLLOm",
    "outputId": "bd36f805-31c5-47bd-c9ad-0f7fc658d38e"
   },
   "outputs": [],
   "source": [
    "# Check Job Titles\n",
    "print(sampled_df.groupby('Job_Title').size().reset_index(name='count'))"
   ]
  },
  {
   "cell_type": "code",
   "execution_count": 0,
   "metadata": {
    "application/vnd.databricks.v1+cell": {
     "cellMetadata": {},
     "inputWidgets": {},
     "nuid": "de406c87-1d5f-4f1b-a105-0c176c77deb2",
     "showTitle": false,
     "tableResultSettingsMap": {},
     "title": ""
    },
    "id": "OkncGSppMJ6m"
   },
   "outputs": [],
   "source": [
    "# Check Percentiles of Years of Experience in the company\n",
    "percentiles = sampled_df['Experience_Years'].quantile([0.25, 0.5, 0.75])\n",
    "p25 = 3\n",
    "p50 = 8\n",
    "p75 = 11\n",
    "\n",
    "# Create Job_Level column\n",
    "def assign_job_level(row):\n",
    "    # Executive titles\n",
    "    executive_titles = [\"CTO\", \"CFO\", \"HR Director\", \"Operations Director\", \"Sales Director\"]\n",
    "\n",
    "    if row['Job_Title'] in executive_titles:\n",
    "        return 'Executive'\n",
    "    elif row['Experience_Years'] <= p25:\n",
    "        return 'Specialist'\n",
    "    elif row['Experience_Years'] <= p50:\n",
    "        return 'Analyst'\n",
    "    elif row['Experience_Years'] <= p75:\n",
    "        return 'Manager'\n",
    "    else:\n",
    "        return 'Principal'\n",
    "\n",
    "sampled_df['Job_Level'] = sampled_df.apply(assign_job_level, axis=1)\n",
    "df['Job_Level'] = sampled_df.apply(assign_job_level, axis=1)"
   ]
  },
  {
   "cell_type": "code",
   "execution_count": 0,
   "metadata": {
    "application/vnd.databricks.v1+cell": {
     "cellMetadata": {},
     "inputWidgets": {},
     "nuid": "05c600eb-fe58-4454-9a77-705b06cc3c49",
     "showTitle": false,
     "tableResultSettingsMap": {},
     "title": ""
    },
    "colab": {
     "base_uri": "https://localhost:8080/",
     "height": 331
    },
    "id": "k7a6uWy1NZSh",
    "outputId": "ead0ce84-0732-4fa7-e273-9b670e1096a9"
   },
   "outputs": [],
   "source": [
    "# Check if the count per job level make sense\n",
    "print(sampled_df[\"Job_Level\"].value_counts())\n",
    "pd.crosstab(sampled_df['Status'], sampled_df['Job_Level'])"
   ]
  },
  {
   "cell_type": "code",
   "execution_count": 0,
   "metadata": {
    "application/vnd.databricks.v1+cell": {
     "cellMetadata": {},
     "inputWidgets": {},
     "nuid": "207f98ac-b936-4545-a90e-5d196962d22c",
     "showTitle": false,
     "tableResultSettingsMap": {},
     "title": ""
    },
    "id": "DrnV6IYOOCnw"
   },
   "outputs": [],
   "source": [
    "# Save first snapshot\n",
    "sampled_df.to_csv(\"/content/drive/MyDrive/Estudos/Douglas College - Pós/Applied Research/Project_Dataset_Official/initial_dataset.csv\", index=False)"
   ]
  },
  {
   "cell_type": "markdown",
   "metadata": {
    "application/vnd.databricks.v1+cell": {
     "cellMetadata": {},
     "inputWidgets": {},
     "nuid": "70745f07-9bf6-4f71-a902-2b012556cd24",
     "showTitle": false,
     "tableResultSettingsMap": {},
     "title": ""
    },
    "id": "4F8MoF63PS7Q"
   },
   "source": [
    "## Dataset Creation (Historical Snapshots)"
   ]
  },
  {
   "cell_type": "code",
   "execution_count": 0,
   "metadata": {
    "application/vnd.databricks.v1+cell": {
     "cellMetadata": {},
     "inputWidgets": {},
     "nuid": "b6eaa42e-be48-48bc-bc96-cb7ae7bff14f",
     "showTitle": false,
     "tableResultSettingsMap": {},
     "title": ""
    },
    "id": "bwxv6KcBP8Ms"
   },
   "outputs": [],
   "source": [
    "# Historical Metrics Setup\n",
    "np.random.seed(4495)\n",
    "start_date = datetime(2025, 10, 1)\n",
    "months = 84\n",
    "snapshot_dates = [start_date + relativedelta(months=i) for i in range(months)]\n",
    "departments = [\"IT\", \"Marketing\", \"HR\", \"Operations\", \"Finance\", \"Sales\", \"R&D\"]\n",
    "leave_reasons = [\"Resigned\", \"Terminated\", \"Retired\"]\n",
    "promotion_milestones = [36, 96, 132]\n",
    "monthly_hiring_rate = 0.02\n",
    "raise_percentages = {\"Analyst\": 0.01, \"Specialist\": 0.02, \"Manager\": 0.02, \"Principal\": 0.03, \"Executive\": 0.03}\n",
    "raise_milestone_percentages = {\"Analyst\": 0.07, \"Manager\": 0.1, \"Principal\": 0.11, \"Executive\": 0.25}\n",
    "used_ids = set(sampled_df[\"Employee_ID\"])"
   ]
  },
  {
   "cell_type": "code",
   "execution_count": 0,
   "metadata": {
    "application/vnd.databricks.v1+cell": {
     "cellMetadata": {},
     "inputWidgets": {},
     "nuid": "687902c1-91fc-412b-8c04-c416956408c5",
     "showTitle": false,
     "tableResultSettingsMap": {},
     "title": ""
    },
    "id": "r_ku0ewVV1Tw"
   },
   "outputs": [],
   "source": [
    "# Guiding Columns for metrics\n",
    "sampled_df[\"promotion_count\"] = 0\n",
    "sampled_df[\"month\"] = 0\n",
    "sampled_df[\"last_raise_year\"] = 0\n",
    "sampled_df[\"previous_job_level\"] = sampled_df[\"Job_Level\"]\n",
    "\n",
    "# GDrive path\n",
    "base_path = \"/content/drive/MyDrive/Estudos/Douglas College - Pós/Applied Research/Project_Dataset_Official/historical_data\""
   ]
  },
  {
   "cell_type": "code",
   "execution_count": 0,
   "metadata": {
    "application/vnd.databricks.v1+cell": {
     "cellMetadata": {},
     "inputWidgets": {},
     "nuid": "b5d25588-8b0e-49bc-bad4-3d38fe296eba",
     "showTitle": false,
     "tableResultSettingsMap": {},
     "title": ""
    },
    "colab": {
     "base_uri": "https://localhost:8080/",
     "height": 365
    },
    "id": "piaIQivaWBjt",
    "outputId": "1a1af8be-77d5-4a0c-a797-93cb210b5237"
   },
   "outputs": [],
   "source": [
    "sampled_df.head()"
   ]
  },
  {
   "cell_type": "code",
   "execution_count": 0,
   "metadata": {
    "application/vnd.databricks.v1+cell": {
     "cellMetadata": {},
     "inputWidgets": {},
     "nuid": "aff9d19b-23fc-4528-a794-ec1f759e0697",
     "showTitle": false,
     "tableResultSettingsMap": {},
     "title": ""
    },
    "colab": {
     "base_uri": "https://localhost:8080/"
    },
    "id": "qvpdD8tum-V-",
    "outputId": "3a88bc72-2513-4194-f689-d775d901ef19"
   },
   "outputs": [],
   "source": [
    "for i, snapshot_date in enumerate(snapshot_dates, start=1):\n",
    "    current_emps = sampled_df[sampled_df[\"Hire_Date\"] <= snapshot_date].copy()\n",
    "\n",
    "    current_emps[\"time_in_company\"] = (\n",
    "        (snapshot_date.year - current_emps[\"Hire_Date\"].dt.year) * 12 +\n",
    "        (snapshot_date.month - current_emps[\"Hire_Date\"].dt.month)\n",
    "    )\n",
    "\n",
    "    # Calculate years in company\n",
    "    current_year_in_company = current_emps[\"time_in_company\"] // 12\n",
    "\n",
    "    # Employees Departure (every 10 months)\n",
    "    if i % 10 == 0:\n",
    "        active_mask = current_emps[\"Status\"] == \"Active\"\n",
    "        leave_mask = (np.random.rand(len(current_emps)) < 0.10) & active_mask\n",
    "        current_emps.loc[leave_mask, \"Status\"] = np.random.choice(leave_reasons, size=leave_mask.sum())\n",
    "        for idx in current_emps[leave_mask].index:\n",
    "            emp_id = current_emps.loc[idx, \"Employee_ID\"]\n",
    "            sampled_df.loc[sampled_df[\"Employee_ID\"] == emp_id, \"Status\"] = current_emps.loc[idx, \"Status\"]\n",
    "\n",
    "    # Department Transfers (every 4 months)\n",
    "    if i % 4 == 0:\n",
    "        move_mask = (np.random.rand(len(current_emps)) < 0.05) & (current_emps[\"Status\"] == \"Active\")\n",
    "        current_emps.loc[move_mask, \"Department\"] = np.random.choice(departments, size=move_mask.sum())\n",
    "        for idx in current_emps[move_mask].index:\n",
    "            emp_id = current_emps.loc[idx, \"Employee_ID\"]\n",
    "            sampled_df.loc[sampled_df[\"Employee_ID\"] == emp_id, \"Department\"] = current_emps.loc[idx, \"Department\"]\n",
    "\n",
    "    # Annual Raises (every 12 months)\n",
    "    if i > 1:\n",
    "        prev_year_in_company = (current_emps[\"time_in_company\"] - 1) // 12\n",
    "        new_year_mask = (current_year_in_company > prev_year_in_company) & (current_emps[\"Status\"] == \"Active\")\n",
    "\n",
    "        for job_level, raise_pct in raise_percentages.items():\n",
    "            level_mask = new_year_mask & (current_emps[\"Job_Level\"] == job_level)\n",
    "            if level_mask.any():\n",
    "                current_emps.loc[level_mask, \"Annual_Salary\"] *= (1 + raise_pct)\n",
    "                for idx in current_emps[level_mask].index:\n",
    "                    emp_id = current_emps.loc[idx, \"Employee_ID\"]\n",
    "                    sampled_df.loc[sampled_df[\"Employee_ID\"] == emp_id, \"Annual_Salary\"] = current_emps.loc[idx, \"Annual_Salary\"]\n",
    "                    sampled_df.loc[sampled_df[\"Employee_ID\"] == emp_id, \"last_raise_year\"] = current_year_in_company.loc[idx]\n",
    "\n",
    "    # Milestone Promotions (at 36, 96, 132 months)\n",
    "    for milestone in promotion_milestones:\n",
    "        promo_mask = (current_emps[\"time_in_company\"] == milestone) & (current_emps[\"Status\"] == \"Active\")\n",
    "        if promo_mask.any():\n",
    "            current_emps.loc[promo_mask, \"promotion_count\"] += 1\n",
    "            for idx in current_emps[promo_mask].index:\n",
    "                current_level = current_emps.loc[idx, \"Job_Level\"]\n",
    "\n",
    "                if current_level == \"Specialist\":\n",
    "                    new_level = \"Analyst\"\n",
    "                elif current_level == \"Analyst\":\n",
    "                    new_level = \"Manager\"\n",
    "                elif current_level == \"Manager\":\n",
    "                    new_level = \"Principal\"\n",
    "                elif current_level == \"Principal\":\n",
    "                    new_level = \"Executive\"\n",
    "                else:\n",
    "                    new_level = current_level\n",
    "                # Update Job Level\n",
    "                if new_level != current_level:\n",
    "                    current_emps.loc[idx, \"Job_Level\"] = new_level\n",
    "                    # Apply Milestone Raise\n",
    "                    if new_level in raise_milestone_percentages:\n",
    "                        raise_pct = raise_milestone_percentages[new_level]\n",
    "                        current_emps.loc[idx, \"Annual_Salary\"] *= (1 + raise_pct)\n",
    "\n",
    "                    emp_id = current_emps.loc[idx, \"Employee_ID\"]\n",
    "                    sampled_df.loc[sampled_df[\"Employee_ID\"] == emp_id, \"Job_Level\"] = new_level\n",
    "                    sampled_df.loc[sampled_df[\"Employee_ID\"] == emp_id, \"Annual_Salary\"] = current_emps.loc[idx, \"Annual_Salary\"]\n",
    "                    sampled_df.loc[sampled_df[\"Employee_ID\"] == emp_id, \"promotion_count\"] = current_emps.loc[idx, \"promotion_count\"]\n",
    "\n",
    "    # New Hires (every 4 months)\n",
    "    if i % 4 == 0:\n",
    "        available_pool = df[~df[\"Employee_ID\"].isin(used_ids)]\n",
    "        n_hires = int(len(sampled_df) * monthly_hiring_rate)\n",
    "\n",
    "        if len(available_pool) >= n_hires:\n",
    "            new_hires = available_pool.sample(n=n_hires, random_state=4495 + i)\n",
    "            new_hires = new_hires.copy()\n",
    "            new_hires[\"promotion_count\"] = 0\n",
    "            new_hires[\"month\"] = i\n",
    "            new_hires[\"Status\"] = \"Active\"\n",
    "            new_hires[\"Hire_Date\"] = snapshot_date\n",
    "            new_hires[\"previous_job_level\"] = new_hires[\"Job_Level\"]\n",
    "            new_hires[\"last_raise_year\"] = 0\n",
    "\n",
    "            sampled_df = pd.concat([sampled_df, new_hires], ignore_index=True)\n",
    "            used_ids.update(new_hires[\"Employee_ID\"])\n",
    "\n",
    "    # Add Snapshot Metadata\n",
    "    current_emps[\"month\"] = i\n",
    "    current_emps[\"snapshot_date\"] = snapshot_date.strftime(\"%Y-%m-%d\")\n",
    "    current_emps[\"ingestion_timestamp\"] = snapshot_date.strftime(\"%Y-%m-%d\")\n",
    "\n",
    "    # Create Directory Structure\n",
    "    year_dir = os.path.join(base_path, str(snapshot_date.year))\n",
    "    month_dir = os.path.join(year_dir, f\"{snapshot_date.month:02d}\")\n",
    "    os.makedirs(month_dir, exist_ok=True)\n",
    "\n",
    "    filename = os.path.join(month_dir, f\"snapshot_{snapshot_date.strftime('%Y_%m')}.csv\")\n",
    "    current_emps.to_csv(filename, index=False)\n",
    "\n",
    "    if i % 12 == 0:\n",
    "        print(f\"Saved snapshot {i}/{months}: Year {snapshot_date.year} ({len(current_emps)} employees)\")\n",
    "\n",
    "print(f\"\\n✅ Completed! All {months} snapshots saved to Google Drive at: {base_path}\")\n",
    "print(f\"Total employees tracked: {len(used_ids)}\")"
   ]
  }
 ],
 "metadata": {
  "application/vnd.databricks.v1+notebook": {
   "computePreferences": null,
   "dashboards": [],
   "environmentMetadata": null,
   "inputWidgetPreferences": null,
   "language": "python",
   "notebookMetadata": {
    "pythonIndentUnit": 4
   },
   "notebookName": "applied_research_dataset_snapshots_creation",
   "widgets": {}
  },
  "colab": {
   "provenance": []
  },
  "kernelspec": {
   "display_name": "Python 3",
   "name": "python3"
  },
  "language_info": {
   "name": "python"
  }
 },
 "nbformat": 4,
 "nbformat_minor": 0
}
