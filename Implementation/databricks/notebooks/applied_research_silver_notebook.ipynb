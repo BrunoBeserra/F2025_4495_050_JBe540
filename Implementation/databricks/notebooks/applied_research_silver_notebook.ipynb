{
 "cells": [
  {
   "cell_type": "markdown",
   "metadata": {
    "application/vnd.databricks.v1+cell": {
     "cellMetadata": {},
     "inputWidgets": {},
     "nuid": "f3b363e2-0129-4ddb-97be-b9c8f2fae466",
     "showTitle": false,
     "tableResultSettingsMap": {},
     "title": ""
    }
   },
   "source": [
    "# Create Silver Notebook with Slowly Changing Dimension Type 2\n",
    "\n",
    "### CSIS4495-050: Applied Research Project\n",
    "\n",
    "#### End-to-End Data Engineering Solution for HR Analytics\n",
    "\n",
    "Group:\n",
    "- Bruno do Nascimento Beserra\n",
    "- Jay Clark Bermudez\n",
    "- Matheus Filipe Figueiredo\n",
    "\n",
    "Instructor: Dr. Bambang Sarif\n",
    "\n",
    "<hr>\n",
    "\n",
    "### Description:\n",
    "\n",
    "This project simulates the evolution of a mid-sized company with 5,000 employees over a period of seven years. To build the initial workforce, we used a Kaggle dataset containing employee information and extracted a representative sample to serve as our company’s employee force.\n",
    "\n",
    "To showcase our data pipeline solution built with state-of-the-art techniques. We designed a realistic simulation environment that captures key workforce dynamics over time. Throughout the seven-year period, employees may experience promotions, change teams, or leave the company. In parallel, the company will continuously hire new employees, based in their information from the main dataset to keep the workforce evolving.\n",
    "\n",
    "In this notebook, we implement a Slowly Changing Dimension Type 2. This allows us to track historical changes in our data while efficiently managing storage. By doing that, it helps reduce size of data and maintain historical accuracy, which is especially valuable when working with large datasets.\n",
    "\n",
    "<hr>\n",
    "\n",
    "### Step by Step:\n",
    "\n",
    "- Import Libraries and Dataset\n",
    "- Define Configurations\n",
    "- Read Bronze table according with the data available in Silver\n",
    "- Data Cleaning\n",
    "- Develop of Slowly Changing Dimension Type 2 Technique (In Progress)\n",
    "- Save Silver Table\n"
   ]
  },
  {
   "cell_type": "code",
   "execution_count": 0,
   "metadata": {
    "application/vnd.databricks.v1+cell": {
     "cellMetadata": {
      "byteLimit": 2048000,
      "rowLimit": 10000
     },
     "inputWidgets": {},
     "nuid": "12b99a8e-c89d-43c5-9d43-a501e1370920",
     "showTitle": false,
     "tableResultSettingsMap": {},
     "title": ""
    }
   },
   "outputs": [],
   "source": [
    "# Import Libraries and Start Spark Session\n",
    "from pyspark.sql import functions as f\n",
    "from pyspark.sql import SparkSession\n",
    "from pyspark.sql.utils import AnalysisException\n",
    "import os\n",
    "\n",
    "spark = SparkSession.builder.getOrCreate()"
   ]
  },
  {
   "cell_type": "code",
   "execution_count": 0,
   "metadata": {
    "application/vnd.databricks.v1+cell": {
     "cellMetadata": {
      "byteLimit": 2048000,
      "rowLimit": 10000
     },
     "inputWidgets": {},
     "nuid": "ea96e15d-7856-44d3-9377-29d57806575a",
     "showTitle": false,
     "tableResultSettingsMap": {},
     "title": ""
    }
   },
   "outputs": [],
   "source": [
    "bronze_table = \"workspace.applied_research_bronze.hr_bronze_data\"\n",
    "silver_table = \"workspace.applied_research_silver.hr_silver_data\""
   ]
  },
  {
   "cell_type": "code",
   "execution_count": 0,
   "metadata": {
    "application/vnd.databricks.v1+cell": {
     "cellMetadata": {
      "byteLimit": 2048000,
      "rowLimit": 10000
     },
     "inputWidgets": {},
     "nuid": "4e04a9d5-e9ff-4d88-a772-ff7b075fe109",
     "showTitle": false,
     "tableResultSettingsMap": {},
     "title": ""
    }
   },
   "outputs": [],
   "source": [
    "silver_exists = spark.catalog.tableExists(silver_table)\n",
    "print(silver_exists)"
   ]
  },
  {
   "cell_type": "code",
   "execution_count": 0,
   "metadata": {
    "application/vnd.databricks.v1+cell": {
     "cellMetadata": {
      "byteLimit": 2048000,
      "rowLimit": 10000
     },
     "inputWidgets": {},
     "nuid": "ea05b9a0-235e-4890-a6b5-80ba3e788081",
     "showTitle": false,
     "tableResultSettingsMap": {},
     "title": ""
    }
   },
   "outputs": [],
   "source": [
    "# Check last ingestion date from silver table\n",
    "last_ingestion_timestamp = None\n",
    "\n",
    "if silver_exists:\n",
    "    last_timestamp_df = spark.table(silver_table).select(f.max(\"ingestion_timestamp\").alias(\"last_timestamp\"))\n",
    "    last_ingestion_timestamp = last_timestamp_df.collect()[0][\"last_timestamp\"]\n",
    "print(last_ingestion_timestamp)"
   ]
  },
  {
   "cell_type": "code",
   "execution_count": 0,
   "metadata": {
    "application/vnd.databricks.v1+cell": {
     "cellMetadata": {
      "byteLimit": 2048000,
      "rowLimit": 10000
     },
     "inputWidgets": {},
     "nuid": "e9eb8a10-047c-4882-a3a2-22e6208cf1ac",
     "showTitle": false,
     "tableResultSettingsMap": {},
     "title": ""
    }
   },
   "outputs": [],
   "source": [
    "if last_ingestion_timestamp is not None:\n",
    "    df = spark.sql(f\"\"\"\n",
    "    SELECT *\n",
    "    FROM {bronze_table}\n",
    "    WHERE ingestion_timestamp > '{last_ingestion_timestamp}'\n",
    "    \"\"\")\n",
    "else:\n",
    "    df = spark.table(bronze_table)"
   ]
  },
  {
   "cell_type": "code",
   "execution_count": 0,
   "metadata": {
    "application/vnd.databricks.v1+cell": {
     "cellMetadata": {
      "byteLimit": 2048000,
      "rowLimit": 10000
     },
     "inputWidgets": {},
     "nuid": "6e8cc936-440e-4115-baad-aa6ff710a2a6",
     "showTitle": false,
     "tableResultSettingsMap": {},
     "title": ""
    }
   },
   "outputs": [],
   "source": [
    "df.count()"
   ]
  },
  {
   "cell_type": "code",
   "execution_count": 0,
   "metadata": {
    "application/vnd.databricks.v1+cell": {
     "cellMetadata": {
      "byteLimit": 2048000,
      "rowLimit": 10000
     },
     "inputWidgets": {},
     "nuid": "7d7fe1f9-f730-435b-b8e8-2dc8d0296f04",
     "showTitle": false,
     "tableResultSettingsMap": {},
     "title": ""
    }
   },
   "outputs": [],
   "source": [
    "# Check Schema of the dataset\n",
    "df.printSchema()"
   ]
  },
  {
   "cell_type": "code",
   "execution_count": 0,
   "metadata": {
    "application/vnd.databricks.v1+cell": {
     "cellMetadata": {
      "byteLimit": 2048000,
      "rowLimit": 10000
     },
     "inputWidgets": {},
     "nuid": "6ba578b0-0e28-486f-85f9-838f05b9cb25",
     "showTitle": false,
     "tableResultSettingsMap": {},
     "title": ""
    }
   },
   "outputs": [],
   "source": [
    "# Drop Auxiliar Columns created during snapshots creation\n",
    "df = df.drop(\"snapshot_date\", \"time_in_company\", \"previous_job_level\", \"last_raise_year\", \"month\", \"promotion_count\")"
   ]
  },
  {
   "cell_type": "code",
   "execution_count": 0,
   "metadata": {
    "application/vnd.databricks.v1+cell": {
     "cellMetadata": {
      "byteLimit": 2048000,
      "rowLimit": 10000
     },
     "inputWidgets": {},
     "nuid": "c90a20ee-a298-463c-86fa-f5f58cceedf7",
     "showTitle": false,
     "tableResultSettingsMap": {},
     "title": ""
    }
   },
   "outputs": [],
   "source": [
    "# Rename columns following snake_case structure\n",
    "df = df.withColumnsRenamed(\n",
    "    {\n",
    "        \"Employee_ID\": \"employee_id\",\n",
    "        \"Full_Name\": \"full_name\",\n",
    "        \"Department\": \"department\",\n",
    "        \"Job_Title\": \"job_title\",\n",
    "        \"Hire_Date\": \"hire_date\",\n",
    "        \"Location\": \"location\",\n",
    "        \"Performance_Rating\": \"performance_rating\",\n",
    "        \"Experience_Years\": \"experience_years\",\n",
    "        \"Status\": \"status\",\n",
    "        \"Work_Mode\": \"work_mode\",\n",
    "        \"Annual_Salary\": \"annual_salary\",\n",
    "        \"Job_Level\": \"job_level\"\n",
    "    })"
   ]
  },
  {
   "cell_type": "code",
   "execution_count": 0,
   "metadata": {
    "application/vnd.databricks.v1+cell": {
     "cellMetadata": {
      "byteLimit": 2048000,
      "rowLimit": 10000
     },
     "inputWidgets": {},
     "nuid": "e90ce0cd-a00c-4875-82f9-e1a62f493db8",
     "showTitle": false,
     "tableResultSettingsMap": {},
     "title": ""
    }
   },
   "outputs": [],
   "source": [
    "# Fix column order in the output\n",
    "df = df.select(\n",
    "    \"employee_id\",\n",
    "    \"full_name\",\n",
    "    \"department\",\n",
    "    \"job_title\",\n",
    "    \"hire_date\",\n",
    "    \"location\",\n",
    "    \"performance_rating\",\n",
    "    \"experience_years\",\n",
    "    \"status\",\n",
    "    \"work_mode\",\n",
    "    \"annual_salary\",\n",
    "    \"job_level\",\n",
    "    \"ingestion_timestamp\"\n",
    ")"
   ]
  },
  {
   "cell_type": "markdown",
   "metadata": {
    "application/vnd.databricks.v1+cell": {
     "cellMetadata": {},
     "inputWidgets": {},
     "nuid": "ad4a5dee-a8de-40f2-827d-46f984984327",
     "showTitle": false,
     "tableResultSettingsMap": {},
     "title": ""
    }
   },
   "source": [
    "## SCD Type 2"
   ]
  },
  {
   "cell_type": "code",
   "execution_count": 0,
   "metadata": {
    "application/vnd.databricks.v1+cell": {
     "cellMetadata": {
      "byteLimit": 2048000,
      "rowLimit": 10000
     },
     "inputWidgets": {},
     "nuid": "be3fcae1-9333-4c41-a4b0-af4567eea951",
     "showTitle": false,
     "tableResultSettingsMap": {},
     "title": ""
    }
   },
   "outputs": [],
   "source": [
    "tracked_columns = [\"employee_id\", \"full_name\", \"department\", \"job_title\", \"location\", \"performance_rating\", \"status\", \"job_level\"]"
   ]
  },
  {
   "cell_type": "code",
   "execution_count": 0,
   "metadata": {
    "application/vnd.databricks.v1+cell": {
     "cellMetadata": {
      "byteLimit": 2048000,
      "rowLimit": 10000
     },
     "inputWidgets": {},
     "nuid": "196e1899-be03-470d-abb5-e61322c0ca0c",
     "showTitle": false,
     "tableResultSettingsMap": {},
     "title": ""
    }
   },
   "outputs": [],
   "source": [
    "# Create metadata for SCD type 2\n",
    "df = df.withColumn(\"data_hash\", f.sha2(f.concat_ws(\"_\", *tracked_columns), 256)) \\\n",
    "    .withColumn(\"start_effectivity_date\", f.col(\"ingestion_timestamp\")) \\\n",
    "    .withColumn(\"end_effectivity_date\", f.lit(\"9999-12-31 23:59:59\").cast(\"date\")) \\\n",
    "    .withColumn(\"is_current\", f.lit(True)) "
   ]
  },
  {
   "cell_type": "code",
   "execution_count": 0,
   "metadata": {
    "application/vnd.databricks.v1+cell": {
     "cellMetadata": {
      "byteLimit": 2048000,
      "rowLimit": 10000
     },
     "inputWidgets": {},
     "nuid": "f0f4ce59-3bee-4ff3-913a-cc6183539fe8",
     "showTitle": false,
     "tableResultSettingsMap": {
      "0": {
       "dataGridStateBlob": "{\"version\":1,\"tableState\":{\"columnPinning\":{\"left\":[\"#row_number#\"],\"right\":[]},\"columnSizing\":{},\"columnVisibility\":{}},\"settings\":{\"columns\":{}},\"syncTimestamp\":1760852919697}",
       "filterBlob": null,
       "queryPlanFiltersBlob": null,
       "tableResultIndex": 0
      }
     },
     "title": ""
    }
   },
   "outputs": [],
   "source": [
    "display(df.head(5))"
   ]
  },
  {
   "cell_type": "code",
   "execution_count": 0,
   "metadata": {
    "application/vnd.databricks.v1+cell": {
     "cellMetadata": {
      "byteLimit": 2048000,
      "rowLimit": 10000
     },
     "inputWidgets": {},
     "nuid": "abb5094a-32b3-4bf2-a371-3bb41e02a1ca",
     "showTitle": false,
     "tableResultSettingsMap": {},
     "title": ""
    }
   },
   "outputs": [],
   "source": [
    "if silver_exists:\n",
    "    # Append only new data\n",
    "    df.write.format(\"delta\").mode(\"append\").saveAsTable(silver_table)\n",
    "    print(\"Appended new data to existing Silver table.\")\n",
    "else:\n",
    "    # Create the Silver table\n",
    "    df.write.format(\"delta\").mode(\"overwrite\").saveAsTable(silver_table)\n",
    "    print(\"Created new Silver table.\")"
   ]
  }
 ],
 "metadata": {
  "application/vnd.databricks.v1+notebook": {
   "computePreferences": {
    "hardware": {
     "accelerator": null,
     "gpuPoolId": null,
     "memory": null
    }
   },
   "dashboards": [],
   "environmentMetadata": {
    "base_environment": "",
    "environment_version": "4"
   },
   "inputWidgetPreferences": null,
   "language": "python",
   "notebookMetadata": {
    "mostRecentlyExecutedCommandWithImplicitDF": {
     "commandId": 7473979426230502,
     "dataframes": [
      "_sqldf"
     ]
    },
    "pythonIndentUnit": 4
   },
   "notebookName": "applied_research_silver_notebook",
   "widgets": {}
  },
  "language_info": {
   "name": "python"
  }
 },
 "nbformat": 4,
 "nbformat_minor": 0
}
